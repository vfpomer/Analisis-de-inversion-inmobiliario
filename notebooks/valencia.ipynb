{
 "cells": [
  {
   "cell_type": "code",
   "execution_count": 1,
   "id": "bbb7b0e1",
   "metadata": {},
   "outputs": [],
   "source": [
    "import pandas as pd "
   ]
  },
  {
   "cell_type": "code",
   "execution_count": 2,
   "id": "4c067eeb",
   "metadata": {},
   "outputs": [
    {
     "name": "stdout",
     "output_type": "stream",
     "text": [
      "c:\\Users\\rey_d\\Documents\\GitHub\\An-lisis-de-inversion-inmobiliario\\notebooks\n"
     ]
    }
   ],
   "source": [
    "import os\n",
    "print(os.getcwd())\n"
   ]
  },
  {
   "cell_type": "code",
   "execution_count": 3,
   "id": "9da0c676",
   "metadata": {},
   "outputs": [],
   "source": [
    "df = pd.read_csv(r'../data\\listingsValencia.csv')"
   ]
  },
  {
   "cell_type": "code",
   "execution_count": 4,
   "id": "3bf3bf36",
   "metadata": {},
   "outputs": [
    {
     "data": {
      "text/plain": [
       "Index(['id', 'name', 'host_id', 'host_name', 'neighbourhood_group',\n",
       "       'neighbourhood', 'latitude', 'longitude', 'room_type', 'price',\n",
       "       'minimum_nights', 'number_of_reviews', 'last_review',\n",
       "       'reviews_per_month', 'calculated_host_listings_count',\n",
       "       'availability_365', 'number_of_reviews_ltm', 'license'],\n",
       "      dtype='object')"
      ]
     },
     "execution_count": 4,
     "metadata": {},
     "output_type": "execute_result"
    }
   ],
   "source": [
    "df.columns"
   ]
  },
  {
   "cell_type": "markdown",
   "id": "c2a65350",
   "metadata": {},
   "source": [
    "### CAMBIO DE TIPOS"
   ]
  },
  {
   "cell_type": "code",
   "execution_count": 5,
   "id": "81ab5021",
   "metadata": {},
   "outputs": [
    {
     "data": {
      "text/plain": [
       "id                                  int64\n",
       "name                               object\n",
       "host_id                             int64\n",
       "host_name                          object\n",
       "neighbourhood_group                object\n",
       "neighbourhood                      object\n",
       "latitude                          float64\n",
       "longitude                         float64\n",
       "room_type                          object\n",
       "price                             float64\n",
       "minimum_nights                      int64\n",
       "number_of_reviews                   int64\n",
       "last_review                        object\n",
       "reviews_per_month                 float64\n",
       "calculated_host_listings_count      int64\n",
       "availability_365                    int64\n",
       "number_of_reviews_ltm               int64\n",
       "license                            object\n",
       "dtype: object"
      ]
     },
     "execution_count": 5,
     "metadata": {},
     "output_type": "execute_result"
    }
   ],
   "source": [
    "# lo primero que podemos comprobar es el tipo de dato de cada columna\n",
    "df.dtypes"
   ]
  },
  {
   "cell_type": "code",
   "execution_count": 6,
   "id": "f25c0ef9",
   "metadata": {},
   "outputs": [],
   "source": [
    "#cambiamos lastreview de object a datetime\n",
    "df['last_review'] = pd.to_datetime(df['last_review'], errors='coerce')"
   ]
  },
  {
   "cell_type": "code",
   "execution_count": 7,
   "id": "845505c3",
   "metadata": {},
   "outputs": [
    {
     "data": {
      "text/html": [
       "<div>\n",
       "<style scoped>\n",
       "    .dataframe tbody tr th:only-of-type {\n",
       "        vertical-align: middle;\n",
       "    }\n",
       "\n",
       "    .dataframe tbody tr th {\n",
       "        vertical-align: top;\n",
       "    }\n",
       "\n",
       "    .dataframe thead th {\n",
       "        text-align: right;\n",
       "    }\n",
       "</style>\n",
       "<table border=\"1\" class=\"dataframe\">\n",
       "  <thead>\n",
       "    <tr style=\"text-align: right;\">\n",
       "      <th></th>\n",
       "      <th>id</th>\n",
       "      <th>name</th>\n",
       "      <th>host_id</th>\n",
       "      <th>host_name</th>\n",
       "      <th>neighbourhood_group</th>\n",
       "      <th>neighbourhood</th>\n",
       "      <th>latitude</th>\n",
       "      <th>longitude</th>\n",
       "      <th>room_type</th>\n",
       "      <th>price</th>\n",
       "      <th>minimum_nights</th>\n",
       "      <th>number_of_reviews</th>\n",
       "      <th>last_review</th>\n",
       "      <th>reviews_per_month</th>\n",
       "      <th>calculated_host_listings_count</th>\n",
       "      <th>availability_365</th>\n",
       "      <th>number_of_reviews_ltm</th>\n",
       "      <th>license</th>\n",
       "    </tr>\n",
       "  </thead>\n",
       "  <tbody>\n",
       "    <tr>\n",
       "      <th>0</th>\n",
       "      <td>48154</td>\n",
       "      <td>Precioso apartamento con wifi</td>\n",
       "      <td>219476</td>\n",
       "      <td>Antonio</td>\n",
       "      <td>LA SAIDIA</td>\n",
       "      <td>MORVEDRE</td>\n",
       "      <td>39.48375</td>\n",
       "      <td>-0.37502</td>\n",
       "      <td>Entire home/apt</td>\n",
       "      <td>154.0</td>\n",
       "      <td>3</td>\n",
       "      <td>177</td>\n",
       "      <td>2024-12-01</td>\n",
       "      <td>1.01</td>\n",
       "      <td>4</td>\n",
       "      <td>177</td>\n",
       "      <td>27</td>\n",
       "      <td>VT-41540-V</td>\n",
       "    </tr>\n",
       "    <tr>\n",
       "      <th>1</th>\n",
       "      <td>137143</td>\n",
       "      <td>PENTHOUSE  ON FRONT LINE BEACH</td>\n",
       "      <td>670775</td>\n",
       "      <td>Cpi Gestión Encuentra Tu Mansión</td>\n",
       "      <td>POBLATS DEL SUD</td>\n",
       "      <td>EL SALER</td>\n",
       "      <td>39.36335</td>\n",
       "      <td>-0.31932</td>\n",
       "      <td>Entire home/apt</td>\n",
       "      <td>390.0</td>\n",
       "      <td>10</td>\n",
       "      <td>1</td>\n",
       "      <td>2013-07-02</td>\n",
       "      <td>0.01</td>\n",
       "      <td>5</td>\n",
       "      <td>64</td>\n",
       "      <td>0</td>\n",
       "      <td>VT32745V</td>\n",
       "    </tr>\n",
       "  </tbody>\n",
       "</table>\n",
       "</div>"
      ],
      "text/plain": [
       "       id                            name  host_id  \\\n",
       "0   48154   Precioso apartamento con wifi   219476   \n",
       "1  137143  PENTHOUSE  ON FRONT LINE BEACH   670775   \n",
       "\n",
       "                          host_name neighbourhood_group neighbourhood  \\\n",
       "0                           Antonio           LA SAIDIA      MORVEDRE   \n",
       "1  Cpi Gestión Encuentra Tu Mansión     POBLATS DEL SUD      EL SALER   \n",
       "\n",
       "   latitude  longitude        room_type  price  minimum_nights  \\\n",
       "0  39.48375   -0.37502  Entire home/apt  154.0               3   \n",
       "1  39.36335   -0.31932  Entire home/apt  390.0              10   \n",
       "\n",
       "   number_of_reviews last_review  reviews_per_month  \\\n",
       "0                177  2024-12-01               1.01   \n",
       "1                  1  2013-07-02               0.01   \n",
       "\n",
       "   calculated_host_listings_count  availability_365  number_of_reviews_ltm  \\\n",
       "0                               4               177                     27   \n",
       "1                               5                64                      0   \n",
       "\n",
       "      license  \n",
       "0  VT-41540-V  \n",
       "1    VT32745V  "
      ]
     },
     "execution_count": 7,
     "metadata": {},
     "output_type": "execute_result"
    }
   ],
   "source": [
    "df.head(2)"
   ]
  },
  {
   "cell_type": "code",
   "execution_count": 8,
   "id": "ac987fa9",
   "metadata": {},
   "outputs": [],
   "source": [
    "import matplotlib.pyplot as plt\n",
    "import seaborn as sns"
   ]
  },
  {
   "cell_type": "code",
   "execution_count": 9,
   "id": "02dd946a",
   "metadata": {},
   "outputs": [
    {
     "name": "stdout",
     "output_type": "stream",
     "text": [
      "Requirement already satisfied: seaborn in c:\\users\\rey_d\\appdata\\local\\programs\\python\\python311\\lib\\site-packages (0.13.2)\n",
      "Requirement already satisfied: numpy!=1.24.0,>=1.20 in c:\\users\\rey_d\\appdata\\local\\programs\\python\\python311\\lib\\site-packages (from seaborn) (2.2.6)\n",
      "Requirement already satisfied: pandas>=1.2 in c:\\users\\rey_d\\appdata\\local\\programs\\python\\python311\\lib\\site-packages (from seaborn) (2.2.2)\n",
      "Requirement already satisfied: matplotlib!=3.6.1,>=3.4 in c:\\users\\rey_d\\appdata\\local\\programs\\python\\python311\\lib\\site-packages (from seaborn) (3.10.3)\n",
      "Requirement already satisfied: contourpy>=1.0.1 in c:\\users\\rey_d\\appdata\\local\\programs\\python\\python311\\lib\\site-packages (from matplotlib!=3.6.1,>=3.4->seaborn) (1.3.2)\n",
      "Requirement already satisfied: cycler>=0.10 in c:\\users\\rey_d\\appdata\\local\\programs\\python\\python311\\lib\\site-packages (from matplotlib!=3.6.1,>=3.4->seaborn) (0.12.1)\n",
      "Requirement already satisfied: fonttools>=4.22.0 in c:\\users\\rey_d\\appdata\\local\\programs\\python\\python311\\lib\\site-packages (from matplotlib!=3.6.1,>=3.4->seaborn) (4.58.1)\n",
      "Requirement already satisfied: kiwisolver>=1.3.1 in c:\\users\\rey_d\\appdata\\local\\programs\\python\\python311\\lib\\site-packages (from matplotlib!=3.6.1,>=3.4->seaborn) (1.4.8)\n",
      "Requirement already satisfied: packaging>=20.0 in c:\\users\\rey_d\\appdata\\local\\programs\\python\\python311\\lib\\site-packages (from matplotlib!=3.6.1,>=3.4->seaborn) (25.0)\n",
      "Requirement already satisfied: pillow>=8 in c:\\users\\rey_d\\appdata\\local\\programs\\python\\python311\\lib\\site-packages (from matplotlib!=3.6.1,>=3.4->seaborn) (10.4.0)\n",
      "Requirement already satisfied: pyparsing>=2.3.1 in c:\\users\\rey_d\\appdata\\local\\programs\\python\\python311\\lib\\site-packages (from matplotlib!=3.6.1,>=3.4->seaborn) (3.2.3)\n",
      "Requirement already satisfied: python-dateutil>=2.7 in c:\\users\\rey_d\\appdata\\local\\programs\\python\\python311\\lib\\site-packages (from matplotlib!=3.6.1,>=3.4->seaborn) (2.9.0.post0)\n",
      "Requirement already satisfied: pytz>=2020.1 in c:\\users\\rey_d\\appdata\\local\\programs\\python\\python311\\lib\\site-packages (from pandas>=1.2->seaborn) (2025.2)\n",
      "Requirement already satisfied: tzdata>=2022.7 in c:\\users\\rey_d\\appdata\\local\\programs\\python\\python311\\lib\\site-packages (from pandas>=1.2->seaborn) (2025.2)\n",
      "Requirement already satisfied: six>=1.5 in c:\\users\\rey_d\\appdata\\local\\programs\\python\\python311\\lib\\site-packages (from python-dateutil>=2.7->matplotlib!=3.6.1,>=3.4->seaborn) (1.17.0)\n"
     ]
    },
    {
     "name": "stderr",
     "output_type": "stream",
     "text": [
      "\n",
      "[notice] A new release of pip is available: 24.0 -> 25.1.1\n",
      "[notice] To update, run: python.exe -m pip install --upgrade pip\n"
     ]
    }
   ],
   "source": [
    "import sys\n",
    "!{sys.executable} -m pip install seaborn\n"
   ]
  },
  {
   "cell_type": "markdown",
   "id": "3af031e8",
   "metadata": {},
   "source": [
    "#### Comprobación de duplicados"
   ]
  },
  {
   "cell_type": "code",
   "execution_count": 10,
   "id": "8ce71db8",
   "metadata": {},
   "outputs": [
    {
     "data": {
      "text/plain": [
       "np.int64(0)"
      ]
     },
     "execution_count": 10,
     "metadata": {},
     "output_type": "execute_result"
    }
   ],
   "source": [
    "df.duplicated().sum() #comprueba si hay duplicados"
   ]
  },
  {
   "cell_type": "code",
   "execution_count": 11,
   "id": "8d52cf7d",
   "metadata": {},
   "outputs": [
    {
     "name": "stdout",
     "output_type": "stream",
     "text": [
      "                       id                                        name  \\\n",
      "211               5956116         3 Bedrooms Apartment with free WIFI   \n",
      "212               5956427         3 Bedrooms Apartment with free WIFI   \n",
      "213               5956789         3 Bedrooms Apartment with free WIFI   \n",
      "216               5957190      Centric 3 bedrooms Apartment with WIFI   \n",
      "217               5957237      Centric 3 bedrooms Apartment with WIFI   \n",
      "302               8399670      Centric 3 bedrooms Apartment with WIFI   \n",
      "304               8399979      Centric 3 bedrooms Apartment with WIFI   \n",
      "305               8400164      Centric 3 bedrooms Apartment with WIFI   \n",
      "1340             26951498                  Bergamot House Single Room   \n",
      "1344             26956688                 Bergamot House Double Suite   \n",
      "1348             27013946               Bergamot House Suite Superior   \n",
      "1349             27014295               Bergamot House Suite Superior   \n",
      "1350             27014310               Bergamot House Suite Superior   \n",
      "1353             27020087               Bergamot House Suite Superior   \n",
      "1354             27020092                 Bergamot House Double Suite   \n",
      "1355             27020422                  Bergamot House Single Room   \n",
      "1356             27020431                  Bergamot House Single Room   \n",
      "2393             51142196  Valencia Luxury - Boutique Center Superior   \n",
      "2394             51142553  Valencia Luxury - Boutique Center Superior   \n",
      "2444             51699933  Valencia Luxury - Boutique Center Superior   \n",
      "2447             51704839  Valencia Luxury - Boutique Center Superior   \n",
      "3044   655593553396695008               Estudio individual con cocina   \n",
      "3112   669970696691692745               Estudio individual con cocina   \n",
      "3405   746089695764683048               Estudio individual con cocina   \n",
      "3457   762692493725717041               Estudio individual con cocina   \n",
      "4091   888917627369609766               Estudio individual con cocina   \n",
      "4093   888927914425413550               Estudio individual con cocina   \n",
      "4094   888928004216837447               Estudio individual con cocina   \n",
      "4139   896809569186672639               Estudio individual con cocina   \n",
      "7660  1285331735476019008     Apartment with1 bedroom with double bed   \n",
      "7662  1285331757536687338     Apartment with1 bedroom with double bed   \n",
      "7664  1285331773527277711     Apartment with1 bedroom with double bed   \n",
      "8477  1360275767061162517               Piermont House Suite Superior   \n",
      "8483  1360988955519210391               Piermont House Suite Superior   \n",
      "8489  1361525958503362826               Piermont House Suite Superior   \n",
      "\n",
      "        host_id                       host_name neighbourhood_group  \\\n",
      "211    30912672  Apartamentos FV Flats Valencia      CAMINS AL GRAU   \n",
      "212    30912672  Apartamentos FV Flats Valencia      CAMINS AL GRAU   \n",
      "213    30912672  Apartamentos FV Flats Valencia      CAMINS AL GRAU   \n",
      "216    30912672  Apartamentos FV Flats Valencia     EL PLA DEL REAL   \n",
      "217    30912672  Apartamentos FV Flats Valencia     EL PLA DEL REAL   \n",
      "302    30912672  Apartamentos FV Flats Valencia     EL PLA DEL REAL   \n",
      "304    30912672  Apartamentos FV Flats Valencia     EL PLA DEL REAL   \n",
      "305    30912672  Apartamentos FV Flats Valencia     EL PLA DEL REAL   \n",
      "1340  202787957                          Xiaoyu        CIUTAT VELLA   \n",
      "1344  202787957                          Xiaoyu        CIUTAT VELLA   \n",
      "1348  202787957                          Xiaoyu        CIUTAT VELLA   \n",
      "1349  202787957                          Xiaoyu        CIUTAT VELLA   \n",
      "1350  202787957                          Xiaoyu        CIUTAT VELLA   \n",
      "1353  202787957                          Xiaoyu        CIUTAT VELLA   \n",
      "1354  202787957                          Xiaoyu        CIUTAT VELLA   \n",
      "1355  202787957                          Xiaoyu        CIUTAT VELLA   \n",
      "1356  202787957                          Xiaoyu        CIUTAT VELLA   \n",
      "2393  409088222                        Cristian        CIUTAT VELLA   \n",
      "2394  409088222                        Cristian        CIUTAT VELLA   \n",
      "2444  409088222                        Cristian        CIUTAT VELLA   \n",
      "2447  409088222                        Cristian        CIUTAT VELLA   \n",
      "3044  465692074   Ute Residencial Universitaria      CAMINS AL GRAU   \n",
      "3112  465692074   Ute Residencial Universitaria      CAMINS AL GRAU   \n",
      "3405  465692074   Ute Residencial Universitaria      CAMINS AL GRAU   \n",
      "3457  465692074   Ute Residencial Universitaria      CAMINS AL GRAU   \n",
      "4091  465692074   Ute Residencial Universitaria      CAMINS AL GRAU   \n",
      "4093  465692074   Ute Residencial Universitaria      CAMINS AL GRAU   \n",
      "4094  465692074   Ute Residencial Universitaria      CAMINS AL GRAU   \n",
      "4139  465692074   Ute Residencial Universitaria      CAMINS AL GRAU   \n",
      "7660  433256900                        Moontels           EXTRAMURS   \n",
      "7662  433256900                        Moontels           EXTRAMURS   \n",
      "7664  433256900                        Moontels           EXTRAMURS   \n",
      "8477  672760736                            Aiya           EXTRAMURS   \n",
      "8483  672760736                            Aiya           EXTRAMURS   \n",
      "8489  672760736                            Aiya           EXTRAMURS   \n",
      "\n",
      "     neighbourhood   latitude  longitude        room_type  price  \\\n",
      "211         ALBORS  39.469600  -0.353870  Entire home/apt  186.0   \n",
      "212         ALBORS  39.469600  -0.353870  Entire home/apt  186.0   \n",
      "213         ALBORS  39.469600  -0.353870  Entire home/apt  186.0   \n",
      "216       MESTALLA  39.473870  -0.359780  Entire home/apt  135.0   \n",
      "217       MESTALLA  39.473870  -0.359780  Entire home/apt  135.0   \n",
      "302       MESTALLA  39.473610  -0.359910  Entire home/apt  135.0   \n",
      "304       MESTALLA  39.473610  -0.359910  Entire home/apt  135.0   \n",
      "305       MESTALLA  39.473610  -0.359910  Entire home/apt  135.0   \n",
      "1340      LA XEREA  39.474380  -0.371380     Private room   34.0   \n",
      "1344      LA XEREA  39.474380  -0.371380     Private room   62.0   \n",
      "1348      LA XEREA  39.474380  -0.371380     Private room   67.0   \n",
      "1349      LA XEREA  39.474380  -0.371380     Private room   67.0   \n",
      "1350      LA XEREA  39.474380  -0.371380     Private room   67.0   \n",
      "1353      LA XEREA  39.474380  -0.371380     Private room   67.0   \n",
      "1354      LA XEREA  39.474380  -0.371380     Private room   62.0   \n",
      "1355      LA XEREA  39.474380  -0.371380     Private room   34.0   \n",
      "1356      LA XEREA  39.474380  -0.371380     Private room   34.0   \n",
      "2393     EL MERCAT  39.471329  -0.377594  Entire home/apt  228.0   \n",
      "2394     EL MERCAT  39.471329  -0.377594  Entire home/apt  228.0   \n",
      "2444     EL MERCAT  39.471329  -0.377594  Entire home/apt  228.0   \n",
      "2447     EL MERCAT  39.471329  -0.377594  Entire home/apt  228.0   \n",
      "3044        ALBORS  39.465832  -0.351928  Entire home/apt   53.0   \n",
      "3112        ALBORS  39.465832  -0.351928  Entire home/apt   53.0   \n",
      "3405        ALBORS  39.465832  -0.351928  Entire home/apt   53.0   \n",
      "3457        ALBORS  39.465832  -0.351928  Entire home/apt   47.0   \n",
      "4091        ALBORS  39.465832  -0.351928  Entire home/apt   53.0   \n",
      "4093        ALBORS  39.465832  -0.351928  Entire home/apt   53.0   \n",
      "4094        ALBORS  39.465832  -0.351928  Entire home/apt   53.0   \n",
      "4139        ALBORS  39.465832  -0.351928  Entire home/apt   47.0   \n",
      "7660    LA ROQUETA  39.468130  -0.382590  Entire home/apt  296.0   \n",
      "7662    LA ROQUETA  39.468130  -0.382590  Entire home/apt  296.0   \n",
      "7664    LA ROQUETA  39.468130  -0.382590  Entire home/apt  296.0   \n",
      "8477    LA ROQUETA  39.466397  -0.378900     Private room   97.0   \n",
      "8483    LA ROQUETA  39.466397  -0.378900     Private room   97.0   \n",
      "8489    LA ROQUETA  39.466397  -0.378900     Private room   97.0   \n",
      "\n",
      "      minimum_nights  number_of_reviews last_review  reviews_per_month  \\\n",
      "211                2                 47  2025-02-15               0.39   \n",
      "212                2                 21  2025-01-03               0.19   \n",
      "213                2                 49  2024-01-03               0.42   \n",
      "216                2                 27  2024-03-08               0.24   \n",
      "217                2                 31  2024-12-13               0.27   \n",
      "302                2                 44  2024-05-25               0.39   \n",
      "304                2                 63  2025-02-25               0.57   \n",
      "305                2                 57  2023-05-21               0.50   \n",
      "1340               1                458  2025-03-13               5.67   \n",
      "1344               1                416  2025-03-13               5.14   \n",
      "1348               1                356  2025-03-07               4.40   \n",
      "1349               1                371  2025-03-07               4.60   \n",
      "1350               1                349  2025-03-11               4.31   \n",
      "1353               1                554  2025-03-12               6.88   \n",
      "1354               1                360  2025-03-12               4.46   \n",
      "1355               1                481  2025-03-11               5.95   \n",
      "1356               1                378  2025-03-13               4.67   \n",
      "2393               2                  4  2022-11-13               0.12   \n",
      "2394               2                 42  2024-12-26               0.97   \n",
      "2444               2                 45  2025-02-21               1.42   \n",
      "2447               2                 25  2025-02-01               0.61   \n",
      "3044              28                  5  2024-09-01               0.18   \n",
      "3112              28                  5  2024-03-31               0.18   \n",
      "3405              28                  8  2024-08-15               0.30   \n",
      "3457              28                  3  2024-05-19               0.11   \n",
      "4091              28                  2  2024-04-15               0.11   \n",
      "4093              28                  2  2024-03-30               0.10   \n",
      "4094              28                  0         NaT                NaN   \n",
      "4139              28                  4  2024-09-01               0.20   \n",
      "7660               1                  0         NaT                NaN   \n",
      "7662               1                  0         NaT                NaN   \n",
      "7664               1                  0         NaT                NaN   \n",
      "8477               1                  6  2025-03-14               6.00   \n",
      "8483               1                  6  2025-03-14               6.00   \n",
      "8489               1                  3  2025-03-09               3.00   \n",
      "\n",
      "      calculated_host_listings_count  availability_365  number_of_reviews_ltm  \\\n",
      "211                               15               111                      6   \n",
      "212                               15               110                      3   \n",
      "213                               15                99                      0   \n",
      "216                               15                81                      0   \n",
      "217                               15                85                      7   \n",
      "302                               15                90                      2   \n",
      "304                               15                97                     13   \n",
      "305                               15                76                      0   \n",
      "1340                              15                17                    107   \n",
      "1344                              15                16                     94   \n",
      "1348                              15                15                     86   \n",
      "1349                              15                 7                     82   \n",
      "1350                              15                18                     92   \n",
      "1353                              15                 9                    125   \n",
      "1354                              15                22                     80   \n",
      "1355                              15                22                    120   \n",
      "1356                              15                20                    102   \n",
      "2393                              31               286                      0   \n",
      "2394                              31               284                     11   \n",
      "2444                              31               242                     28   \n",
      "2447                              31               243                     12   \n",
      "3044                              11               257                      2   \n",
      "3112                              11               257                      1   \n",
      "3405                              11               257                      4   \n",
      "3457                              11               229                      1   \n",
      "4091                              11               257                      1   \n",
      "4093                              11               257                      1   \n",
      "4094                              11               257                      0   \n",
      "4139                              11               257                      2   \n",
      "7660                              14               133                      0   \n",
      "7662                              14               153                      0   \n",
      "7664                              14               162                      0   \n",
      "8477                               9                28                      6   \n",
      "8483                               9                34                      6   \n",
      "8489                               9                34                      3   \n",
      "\n",
      "           license  \n",
      "211     VT-32553-V  \n",
      "212     VT-32555-V  \n",
      "213     VT-32557-V  \n",
      "216     VT-33282-V  \n",
      "217     VT-33281-V  \n",
      "302     VT-36709-V  \n",
      "304     VT-36711-V  \n",
      "305     VT-36712-V  \n",
      "1340       HV-1401  \n",
      "1344    VT-46805-V  \n",
      "1348    VT-46806-V  \n",
      "1349  VT-46805-6-V  \n",
      "1350    VT-46806-V  \n",
      "1353    VT-46805-V  \n",
      "1354    VT-46805-V  \n",
      "1355       HV-1401  \n",
      "1356       HV-1401  \n",
      "2393         0179V  \n",
      "2394           NaN  \n",
      "2444         0179V  \n",
      "2447         0179V  \n",
      "3044           NaN  \n",
      "3112           NaN  \n",
      "3405           NaN  \n",
      "3457           NaN  \n",
      "4091           NaN  \n",
      "4093           NaN  \n",
      "4094           NaN  \n",
      "4139           NaN  \n",
      "7660           NaN  \n",
      "7662           NaN  \n",
      "7664           NaN  \n",
      "8477           NaN  \n",
      "8483           NaN  \n",
      "8489           NaN  \n"
     ]
    }
   ],
   "source": [
    "#comprobación de duplicados parciales\n",
    "df_dup = df[df.duplicated(subset=['name', 'price', 'latitude', 'longitude'], keep=False)]\n",
    "print(df_dup)\n"
   ]
  },
  {
   "cell_type": "code",
   "execution_count": 12,
   "id": "4337fcf8",
   "metadata": {},
   "outputs": [
    {
     "data": {
      "text/plain": [
       "np.int64(0)"
      ]
     },
     "execution_count": 12,
     "metadata": {},
     "output_type": "execute_result"
    }
   ],
   "source": [
    "df_dup.duplicated().sum() #comprueba si hay duplicados en las columnas seleccionadas"
   ]
  },
  {
   "cell_type": "code",
   "execution_count": 13,
   "id": "73962e8b",
   "metadata": {},
   "outputs": [
    {
     "data": {
      "text/html": [
       "<div>\n",
       "<style scoped>\n",
       "    .dataframe tbody tr th:only-of-type {\n",
       "        vertical-align: middle;\n",
       "    }\n",
       "\n",
       "    .dataframe tbody tr th {\n",
       "        vertical-align: top;\n",
       "    }\n",
       "\n",
       "    .dataframe thead th {\n",
       "        text-align: right;\n",
       "    }\n",
       "</style>\n",
       "<table border=\"1\" class=\"dataframe\">\n",
       "  <thead>\n",
       "    <tr style=\"text-align: right;\">\n",
       "      <th></th>\n",
       "      <th>id</th>\n",
       "      <th>name</th>\n",
       "      <th>host_id</th>\n",
       "      <th>host_name</th>\n",
       "      <th>neighbourhood_group</th>\n",
       "      <th>neighbourhood</th>\n",
       "      <th>latitude</th>\n",
       "      <th>longitude</th>\n",
       "      <th>room_type</th>\n",
       "      <th>price</th>\n",
       "      <th>minimum_nights</th>\n",
       "      <th>number_of_reviews</th>\n",
       "      <th>last_review</th>\n",
       "      <th>reviews_per_month</th>\n",
       "      <th>calculated_host_listings_count</th>\n",
       "      <th>availability_365</th>\n",
       "      <th>number_of_reviews_ltm</th>\n",
       "      <th>license</th>\n",
       "    </tr>\n",
       "  </thead>\n",
       "  <tbody>\n",
       "    <tr>\n",
       "      <th>211</th>\n",
       "      <td>5956116</td>\n",
       "      <td>3 Bedrooms Apartment with free WIFI</td>\n",
       "      <td>30912672</td>\n",
       "      <td>Apartamentos FV Flats Valencia</td>\n",
       "      <td>CAMINS AL GRAU</td>\n",
       "      <td>ALBORS</td>\n",
       "      <td>39.4696</td>\n",
       "      <td>-0.35387</td>\n",
       "      <td>Entire home/apt</td>\n",
       "      <td>186.0</td>\n",
       "      <td>2</td>\n",
       "      <td>47</td>\n",
       "      <td>2025-02-15</td>\n",
       "      <td>0.39</td>\n",
       "      <td>15</td>\n",
       "      <td>111</td>\n",
       "      <td>6</td>\n",
       "      <td>VT-32553-V</td>\n",
       "    </tr>\n",
       "    <tr>\n",
       "      <th>212</th>\n",
       "      <td>5956427</td>\n",
       "      <td>3 Bedrooms Apartment with free WIFI</td>\n",
       "      <td>30912672</td>\n",
       "      <td>Apartamentos FV Flats Valencia</td>\n",
       "      <td>CAMINS AL GRAU</td>\n",
       "      <td>ALBORS</td>\n",
       "      <td>39.4696</td>\n",
       "      <td>-0.35387</td>\n",
       "      <td>Entire home/apt</td>\n",
       "      <td>186.0</td>\n",
       "      <td>2</td>\n",
       "      <td>21</td>\n",
       "      <td>2025-01-03</td>\n",
       "      <td>0.19</td>\n",
       "      <td>15</td>\n",
       "      <td>110</td>\n",
       "      <td>3</td>\n",
       "      <td>VT-32555-V</td>\n",
       "    </tr>\n",
       "  </tbody>\n",
       "</table>\n",
       "</div>"
      ],
      "text/plain": [
       "          id                                 name   host_id  \\\n",
       "211  5956116  3 Bedrooms Apartment with free WIFI  30912672   \n",
       "212  5956427  3 Bedrooms Apartment with free WIFI  30912672   \n",
       "\n",
       "                          host_name neighbourhood_group neighbourhood  \\\n",
       "211  Apartamentos FV Flats Valencia      CAMINS AL GRAU        ALBORS   \n",
       "212  Apartamentos FV Flats Valencia      CAMINS AL GRAU        ALBORS   \n",
       "\n",
       "     latitude  longitude        room_type  price  minimum_nights  \\\n",
       "211   39.4696   -0.35387  Entire home/apt  186.0               2   \n",
       "212   39.4696   -0.35387  Entire home/apt  186.0               2   \n",
       "\n",
       "     number_of_reviews last_review  reviews_per_month  \\\n",
       "211                 47  2025-02-15               0.39   \n",
       "212                 21  2025-01-03               0.19   \n",
       "\n",
       "     calculated_host_listings_count  availability_365  number_of_reviews_ltm  \\\n",
       "211                              15               111                      6   \n",
       "212                              15               110                      3   \n",
       "\n",
       "        license  \n",
       "211  VT-32553-V  \n",
       "212  VT-32555-V  "
      ]
     },
     "execution_count": 13,
     "metadata": {},
     "output_type": "execute_result"
    }
   ],
   "source": [
    "df_dup.head(2)"
   ]
  },
  {
   "cell_type": "code",
   "execution_count": 14,
   "id": "c9720db7",
   "metadata": {},
   "outputs": [
    {
     "name": "stdout",
     "output_type": "stream",
     "text": [
      "Filas duplicadas (todas las columnas):\n",
      "Empty DataFrame\n",
      "Columns: [id, name, host_id, host_name, neighbourhood_group, neighbourhood, latitude, longitude, room_type, price, minimum_nights, number_of_reviews, last_review, reviews_per_month, calculated_host_listings_count, availability_365, number_of_reviews_ltm, license]\n",
      "Index: []\n"
     ]
    }
   ],
   "source": [
    "# Mostrar todas las filas duplicadas (considerando todas las columnas)\n",
    "duplicados = df[df.duplicated(keep=False)]\n",
    "\n",
    "print(\"Filas duplicadas (todas las columnas):\")\n",
    "print(duplicados)\n"
   ]
  },
  {
   "cell_type": "markdown",
   "id": "34336fb9",
   "metadata": {},
   "source": [
    "### comprobación de nulos"
   ]
  },
  {
   "cell_type": "code",
   "execution_count": 15,
   "id": "22437fbc",
   "metadata": {},
   "outputs": [
    {
     "data": {
      "text/plain": [
       "id                                   0\n",
       "name                                 0\n",
       "host_id                              0\n",
       "host_name                            0\n",
       "neighbourhood_group                  0\n",
       "neighbourhood                        0\n",
       "latitude                             0\n",
       "longitude                            0\n",
       "room_type                            0\n",
       "price                              689\n",
       "minimum_nights                       0\n",
       "number_of_reviews                    0\n",
       "last_review                       1553\n",
       "reviews_per_month                 1553\n",
       "calculated_host_listings_count       0\n",
       "availability_365                     0\n",
       "number_of_reviews_ltm                0\n",
       "license                           6234\n",
       "dtype: int64"
      ]
     },
     "execution_count": 15,
     "metadata": {},
     "output_type": "execute_result"
    }
   ],
   "source": [
    "df.isnull().sum() #comprueba si hay valores nulos"
   ]
  },
  {
   "cell_type": "code",
   "execution_count": 16,
   "id": "dcfc2c13",
   "metadata": {},
   "outputs": [
    {
     "data": {
      "text/plain": [
       "id                                 0.000000\n",
       "name                               0.000000\n",
       "host_id                            0.000000\n",
       "host_name                          0.000000\n",
       "neighbourhood_group                0.000000\n",
       "neighbourhood                      0.000000\n",
       "latitude                           0.000000\n",
       "longitude                          0.000000\n",
       "room_type                          0.000000\n",
       "price                              7.787951\n",
       "minimum_nights                     0.000000\n",
       "number_of_reviews                  0.000000\n",
       "last_review                       17.553973\n",
       "reviews_per_month                 17.553973\n",
       "calculated_host_listings_count     0.000000\n",
       "availability_365                   0.000000\n",
       "number_of_reviews_ltm              0.000000\n",
       "license                           70.464564\n",
       "dtype: float64"
      ]
     },
     "execution_count": 16,
     "metadata": {},
     "output_type": "execute_result"
    }
   ],
   "source": [
    "df.isnull().sum() / len(df) * 100 #porcentaje de valores nulos por columna"
   ]
  },
  {
   "cell_type": "code",
   "execution_count": 17,
   "id": "17f87f8f",
   "metadata": {},
   "outputs": [
    {
     "data": {
      "text/plain": [
       "np.float64(34.85)"
      ]
     },
     "execution_count": 17,
     "metadata": {},
     "output_type": "execute_result"
    }
   ],
   "source": [
    "df['reviews_per_month'].max() #valor mínimo de la columna reviews_per_month"
   ]
  },
  {
   "cell_type": "code",
   "execution_count": 18,
   "id": "44f2ecd1",
   "metadata": {},
   "outputs": [
    {
     "data": {
      "text/plain": [
       "<Axes: >"
      ]
     },
     "execution_count": 18,
     "metadata": {},
     "output_type": "execute_result"
    },
    {
     "data": {
      "image/png": "[encoded data removed]",
      "text/plain": [
       "<Figure size 640x480 with 1 Axes>"
      ]
     },
     "metadata": {},
     "output_type": "display_data"
    }
   ],
   "source": [
    "sns.heatmap(df.isnull(), cbar=False, cmap='viridis') #visualiza los valores nulos"
   ]
  },
  {
   "cell_type": "code",
   "execution_count": 19,
   "id": "e9fbfcf8",
   "metadata": {},
   "outputs": [],
   "source": [
    "# al no corresponder a ninguno, cambiamos el valor nulo a sin datos\n",
    "df['license'] = df['license'].fillna('Sin datos')"
   ]
  },
  {
   "cell_type": "code",
   "execution_count": 20,
   "id": "034aa6e2",
   "metadata": {},
   "outputs": [],
   "source": [
    "#creamos copia de df para no modificar el original\n",
    "df_nuevo_valencia = df.copy()"
   ]
  },
  {
   "cell_type": "code",
   "execution_count": 21,
   "id": "9f6ab7bd",
   "metadata": {},
   "outputs": [],
   "source": [
    "df_nuevo_valencia = df_nuevo_valencia[['number_of_reviews', 'last_review', 'reviews_per_month','id']]"
   ]
  },
  {
   "cell_type": "code",
   "execution_count": 22,
   "id": "c276f7ef",
   "metadata": {},
   "outputs": [
    {
     "data": {
      "text/html": [
       "<div>\n",
       "<style scoped>\n",
       "    .dataframe tbody tr th:only-of-type {\n",
       "        vertical-align: middle;\n",
       "    }\n",
       "\n",
       "    .dataframe tbody tr th {\n",
       "        vertical-align: top;\n",
       "    }\n",
       "\n",
       "    .dataframe thead th {\n",
       "        text-align: right;\n",
       "    }\n",
       "</style>\n",
       "<table border=\"1\" class=\"dataframe\">\n",
       "  <thead>\n",
       "    <tr style=\"text-align: right;\">\n",
       "      <th></th>\n",
       "      <th>number_of_reviews</th>\n",
       "      <th>last_review</th>\n",
       "      <th>reviews_per_month</th>\n",
       "      <th>id</th>\n",
       "    </tr>\n",
       "  </thead>\n",
       "  <tbody>\n",
       "    <tr>\n",
       "      <th>11</th>\n",
       "      <td>0</td>\n",
       "      <td>NaT</td>\n",
       "      <td>NaN</td>\n",
       "      <td>276455</td>\n",
       "    </tr>\n",
       "    <tr>\n",
       "      <th>56</th>\n",
       "      <td>0</td>\n",
       "      <td>NaT</td>\n",
       "      <td>NaN</td>\n",
       "      <td>909800</td>\n",
       "    </tr>\n",
       "    <tr>\n",
       "      <th>103</th>\n",
       "      <td>0</td>\n",
       "      <td>NaT</td>\n",
       "      <td>NaN</td>\n",
       "      <td>1895636</td>\n",
       "    </tr>\n",
       "    <tr>\n",
       "      <th>125</th>\n",
       "      <td>0</td>\n",
       "      <td>NaT</td>\n",
       "      <td>NaN</td>\n",
       "      <td>2655162</td>\n",
       "    </tr>\n",
       "    <tr>\n",
       "      <th>141</th>\n",
       "      <td>0</td>\n",
       "      <td>NaT</td>\n",
       "      <td>NaN</td>\n",
       "      <td>3275736</td>\n",
       "    </tr>\n",
       "    <tr>\n",
       "      <th>...</th>\n",
       "      <td>...</td>\n",
       "      <td>...</td>\n",
       "      <td>...</td>\n",
       "      <td>...</td>\n",
       "    </tr>\n",
       "    <tr>\n",
       "      <th>8842</th>\n",
       "      <td>0</td>\n",
       "      <td>NaT</td>\n",
       "      <td>NaN</td>\n",
       "      <td>1376678698998326371</td>\n",
       "    </tr>\n",
       "    <tr>\n",
       "      <th>8843</th>\n",
       "      <td>0</td>\n",
       "      <td>NaT</td>\n",
       "      <td>NaN</td>\n",
       "      <td>1376702369604981548</td>\n",
       "    </tr>\n",
       "    <tr>\n",
       "      <th>8844</th>\n",
       "      <td>0</td>\n",
       "      <td>NaT</td>\n",
       "      <td>NaN</td>\n",
       "      <td>1376713264151194058</td>\n",
       "    </tr>\n",
       "    <tr>\n",
       "      <th>8845</th>\n",
       "      <td>0</td>\n",
       "      <td>NaT</td>\n",
       "      <td>NaN</td>\n",
       "      <td>1376757432745262395</td>\n",
       "    </tr>\n",
       "    <tr>\n",
       "      <th>8846</th>\n",
       "      <td>0</td>\n",
       "      <td>NaT</td>\n",
       "      <td>NaN</td>\n",
       "      <td>1376799804383433490</td>\n",
       "    </tr>\n",
       "  </tbody>\n",
       "</table>\n",
       "<p>1553 rows × 4 columns</p>\n",
       "</div>"
      ],
      "text/plain": [
       "      number_of_reviews last_review  reviews_per_month                   id\n",
       "11                    0         NaT                NaN               276455\n",
       "56                    0         NaT                NaN               909800\n",
       "103                   0         NaT                NaN              1895636\n",
       "125                   0         NaT                NaN              2655162\n",
       "141                   0         NaT                NaN              3275736\n",
       "...                 ...         ...                ...                  ...\n",
       "8842                  0         NaT                NaN  1376678698998326371\n",
       "8843                  0         NaT                NaN  1376702369604981548\n",
       "8844                  0         NaT                NaN  1376713264151194058\n",
       "8845                  0         NaT                NaN  1376757432745262395\n",
       "8846                  0         NaT                NaN  1376799804383433490\n",
       "\n",
       "[1553 rows x 4 columns]"
      ]
     },
     "execution_count": 22,
     "metadata": {},
     "output_type": "execute_result"
    }
   ],
   "source": [
    "df_nuevo_valencia = df_nuevo_valencia[df_nuevo_valencia['last_review'].isnull()]\n",
    "df_nuevo_valencia "
   ]
  },
  {
   "cell_type": "code",
   "execution_count": 23,
   "id": "8984bf50",
   "metadata": {},
   "outputs": [],
   "source": [
    "df_nuevo_valencia['last_review'] = pd.to_datetime(df_nuevo_valencia['last_review'], errors='coerce')\n"
   ]
  },
  {
   "cell_type": "code",
   "execution_count": 24,
   "id": "239262d0",
   "metadata": {},
   "outputs": [],
   "source": [
    "#Rellenar los valores nulos con una fecha por defecto,\n",
    "df_nuevo_valencia['last_review'] = pd.to_datetime(df_nuevo_valencia['last_review'])  # Asegura el tipo datetime\n",
    "latest_date = df_nuevo_valencia['last_review'].max()\n",
    "df_nuevo_valencia['last_review'] = df_nuevo_valencia['last_review'].fillna('2000-01-01')\n"
   ]
  },
  {
   "cell_type": "code",
   "execution_count": 25,
   "id": "5bb18cd9",
   "metadata": {},
   "outputs": [
    {
     "name": "stdout",
     "output_type": "stream",
     "text": [
      "1553\n"
     ]
    }
   ],
   "source": [
    "print(df_nuevo_valencia['last_review'].notna().sum())\n"
   ]
  },
  {
   "cell_type": "code",
   "execution_count": 26,
   "id": "c9a638a7",
   "metadata": {},
   "outputs": [
    {
     "name": "stdout",
     "output_type": "stream",
     "text": [
      "Valores no válidos en 'last_review': <DatetimeArray>\n",
      "[]\n",
      "Length: 0, dtype: datetime64[ns]\n"
     ]
    }
   ],
   "source": [
    "#ver los valores no válidos en 'last_review'\n",
    "invalid_dates = df_nuevo_valencia.loc[\n",
    "    pd.to_datetime(df_nuevo_valencia['last_review'], errors='coerce').isna(),\n",
    "    'last_review'\n",
    "].unique()\n",
    "\n",
    "print(\"Valores no válidos en 'last_review':\", invalid_dates)\n"
   ]
  },
  {
   "cell_type": "code",
   "execution_count": 27,
   "id": "c24fd28f",
   "metadata": {},
   "outputs": [
    {
     "name": "stdout",
     "output_type": "stream",
     "text": [
      "Total filas: 1553\n",
      "Valores válidos en last_review: 1553\n",
      "11    2000-01-01\n",
      "56    2000-01-01\n",
      "103   2000-01-01\n",
      "125   2000-01-01\n",
      "141   2000-01-01\n",
      "239   2000-01-01\n",
      "246   2000-01-01\n",
      "249   2000-01-01\n",
      "266   2000-01-01\n",
      "297   2000-01-01\n",
      "Name: last_review, dtype: datetime64[ns]\n"
     ]
    }
   ],
   "source": [
    "# Cuántas filas totales tienes\n",
    "print(\"Total filas:\", len(df_nuevo_valencia))\n",
    "\n",
    "# Cuántos valores no nulos tiene la columna last_review\n",
    "print(\"Valores válidos en last_review:\", df_nuevo_valencia['last_review'].notna().sum())\n",
    "\n",
    "# Muestra primeras filas de la columna last_review para ver qué hay\n",
    "print(df_nuevo_valencia['last_review'].head(10))\n"
   ]
  },
  {
   "cell_type": "code",
   "execution_count": 28,
   "id": "3d13a3be",
   "metadata": {},
   "outputs": [
    {
     "name": "stdout",
     "output_type": "stream",
     "text": [
      "count                   1553\n",
      "mean     2000-01-01 00:00:00\n",
      "min      2000-01-01 00:00:00\n",
      "25%      2000-01-01 00:00:00\n",
      "50%      2000-01-01 00:00:00\n",
      "75%      2000-01-01 00:00:00\n",
      "max      2000-01-01 00:00:00\n",
      "Name: last_review, dtype: object\n"
     ]
    }
   ],
   "source": [
    "print(df_nuevo_valencia['last_review'].describe())\n"
   ]
  },
  {
   "cell_type": "code",
   "execution_count": 30,
   "id": "9c00ec56",
   "metadata": {},
   "outputs": [
    {
     "data": {
      "text/plain": [
       "<Axes: >"
      ]
     },
     "execution_count": 30,
     "metadata": {},
     "output_type": "execute_result"
    },
    {
     "data": {
      "image/png": "[encoded data removed]",
      "text/plain": [
       "<Figure size 640x480 with 1 Axes>"
      ]
     },
     "metadata": {},
     "output_type": "display_data"
    }
   ],
   "source": [
    "sns.heatmap(df_nuevo_valencia.isnull(), cbar=False, cmap='viridis') #visualiza los valores nulos"
   ]
  },
  {
   "cell_type": "code",
   "execution_count": 31,
   "id": "c395f529",
   "metadata": {},
   "outputs": [
    {
     "data": {
      "text/plain": [
       "np.float64(0.0)"
      ]
     },
     "execution_count": 31,
     "metadata": {},
     "output_type": "execute_result"
    }
   ],
   "source": [
    "#Tratar nulos como 0 antes de sumar\n",
    "\n",
    "df_nuevo_valencia['reviews_per_month'].fillna(0).sum()"
   ]
  },
  {
   "cell_type": "code",
   "execution_count": null,
   "id": "ebb4e14f",
   "metadata": {},
   "outputs": [],
   "source": [
    "#Recomendación de limpieza completa. \n",
    "# Rellenar valores nulos con 0, asumiendo que si no hay dato, no hubo reviews.\n",
    "# Redondear al entero más cercano (por ejemplo: 2.4 → 2, 2.6 → 3).\n",
    "#Convertir a tipo entero (int)."
   ]
  }
 ],
 "metadata": {
  "kernelspec": {
   "display_name": "Python 3",
   "language": "python",
   "name": "python3"
  },
  "language_info": {
   "codemirror_mode": {
    "name": "ipython",
    "version": 3
   },
   "file_extension": ".py",
   "mimetype": "text/x-python",
   "name": "python",
   "nbconvert_exporter": "python",
   "pygments_lexer": "ipython3",
   "version": "3.11.9"
  }
 },
 "nbformat": 4,
 "nbformat_minor": 5
}
