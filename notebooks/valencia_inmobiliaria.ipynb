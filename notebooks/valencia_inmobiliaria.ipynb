{
 "cells": [
  {
   "cell_type": "code",
   "execution_count": 1,
   "id": "252185c8",
   "metadata": {},
   "outputs": [],
   "source": [
    "import pandas as pd\n",
    "import warnings\n",
    "warnings.simplefilter(action='ignore', category=FutureWarning)"
   ]
  },
  {
   "cell_type": "code",
   "execution_count": 2,
   "id": "4c9833af",
   "metadata": {},
   "outputs": [
    {
     "name": "stdout",
     "output_type": "stream",
     "text": [
      "c:\\Users\\rey_d\\Documents\\GitHub\\An-lisis-de-inversion-inmobiliario\\notebooks\n"
     ]
    }
   ],
   "source": [
    "import os\n",
    "print(os.getcwd())  # Esto imprime el directorio actual"
   ]
  },
  {
   "cell_type": "code",
   "execution_count": 3,
   "id": "9a08364e",
   "metadata": {},
   "outputs": [
    {
     "name": "stdout",
     "output_type": "stream",
     "text": [
      "Directorio actual: c:\\Users\\rey_d\\Documents\\GitHub\\An-lisis-de-inversion-inmobiliario\n"
     ]
    }
   ],
   "source": [
    "import os\n",
    "\n",
    "# Cambiar el directorio de trabajo al nivel superior\n",
    "os.chdir('..')\n",
    "\n",
    "# Verificar dónde estás ahora\n",
    "print(\"Directorio actual:\", os.getcwd())"
   ]
  },
  {
   "cell_type": "code",
   "execution_count": 4,
   "id": "b3d9096d",
   "metadata": {},
   "outputs": [],
   "source": [
    "df = pd.read_csv(r'data\\precioViviendaValencia.csv', sep=';')"
   ]
  },
  {
   "cell_type": "code",
   "execution_count": 5,
   "id": "509a66ca",
   "metadata": {},
   "outputs": [],
   "source": [
    "#añadimos columna city\n",
    "df['city'] = 'Valencia'\n",
    "\n"
   ]
  },
  {
   "cell_type": "code",
   "execution_count": 6,
   "id": "b968db10",
   "metadata": {},
   "outputs": [
    {
     "data": {
      "text/html": [
       "<div>\n",
       "<style scoped>\n",
       "    .dataframe tbody tr th:only-of-type {\n",
       "        vertical-align: middle;\n",
       "    }\n",
       "\n",
       "    .dataframe tbody tr th {\n",
       "        vertical-align: top;\n",
       "    }\n",
       "\n",
       "    .dataframe thead th {\n",
       "        text-align: right;\n",
       "    }\n",
       "</style>\n",
       "<table border=\"1\" class=\"dataframe\">\n",
       "  <thead>\n",
       "    <tr style=\"text-align: right;\">\n",
       "      <th></th>\n",
       "      <th>Año</th>\n",
       "      <th>Periodo</th>\n",
       "      <th>Precio Valencia</th>\n",
       "      <th>Precio España</th>\n",
       "      <th>city</th>\n",
       "    </tr>\n",
       "  </thead>\n",
       "  <tbody>\n",
       "    <tr>\n",
       "      <th>0</th>\n",
       "      <td>2007</td>\n",
       "      <td>Trimestre 1</td>\n",
       "      <td>1.988,7</td>\n",
       "      <td>NaN</td>\n",
       "      <td>Valencia</td>\n",
       "    </tr>\n",
       "    <tr>\n",
       "      <th>1</th>\n",
       "      <td>2007</td>\n",
       "      <td>Trimestre 2</td>\n",
       "      <td>2.077,27</td>\n",
       "      <td>NaN</td>\n",
       "      <td>Valencia</td>\n",
       "    </tr>\n",
       "    <tr>\n",
       "      <th>2</th>\n",
       "      <td>2007</td>\n",
       "      <td>Trimestre 3</td>\n",
       "      <td>2.198,5</td>\n",
       "      <td>NaN</td>\n",
       "      <td>Valencia</td>\n",
       "    </tr>\n",
       "    <tr>\n",
       "      <th>3</th>\n",
       "      <td>2007</td>\n",
       "      <td>Trimestre 4</td>\n",
       "      <td>2.296,58</td>\n",
       "      <td>NaN</td>\n",
       "      <td>Valencia</td>\n",
       "    </tr>\n",
       "    <tr>\n",
       "      <th>4</th>\n",
       "      <td>2008</td>\n",
       "      <td>Trimestre 1</td>\n",
       "      <td>2.386,34</td>\n",
       "      <td>NaN</td>\n",
       "      <td>Valencia</td>\n",
       "    </tr>\n",
       "  </tbody>\n",
       "</table>\n",
       "</div>"
      ],
      "text/plain": [
       "    Año      Periodo Precio Valencia Precio España      city\n",
       "0  2007  Trimestre 1         1.988,7           NaN  Valencia\n",
       "1  2007  Trimestre 2        2.077,27           NaN  Valencia\n",
       "2  2007  Trimestre 3         2.198,5           NaN  Valencia\n",
       "3  2007  Trimestre 4        2.296,58           NaN  Valencia\n",
       "4  2008  Trimestre 1        2.386,34           NaN  Valencia"
      ]
     },
     "execution_count": 6,
     "metadata": {},
     "output_type": "execute_result"
    }
   ],
   "source": [
    "df.head()"
   ]
  },
  {
   "cell_type": "code",
   "execution_count": 7,
   "id": "785ca4f8",
   "metadata": {},
   "outputs": [
    {
     "data": {
      "text/plain": [
       "Index(['Año', 'Periodo', 'Precio Valencia', 'Precio España', 'city'], dtype='object')"
      ]
     },
     "execution_count": 7,
     "metadata": {},
     "output_type": "execute_result"
    }
   ],
   "source": [
    "df.columns"
   ]
  },
  {
   "cell_type": "code",
   "execution_count": 8,
   "id": "f8b035fb",
   "metadata": {},
   "outputs": [
    {
     "data": {
      "text/plain": [
       "Año                 int64\n",
       "Periodo            object\n",
       "Precio Valencia    object\n",
       "Precio España      object\n",
       "city               object\n",
       "dtype: object"
      ]
     },
     "execution_count": 8,
     "metadata": {},
     "output_type": "execute_result"
    }
   ],
   "source": [
    "# lo primero que podemos comprobar es el tipo de dato de cada columna\n",
    "df.dtypes"
   ]
  },
  {
   "cell_type": "code",
   "execution_count": 9,
   "id": "002249dc",
   "metadata": {},
   "outputs": [],
   "source": [
    "#Convertir la columna a tipo numérico Valencia\n",
    "\n",
    "# 1. Asegúrate de que es string (por si hay números ya)\n",
    "df['Precio Valencia'] = df['Precio Valencia'].astype(str)\n",
    "\n",
    "# 2. Elimina los puntos de miles y reemplaza la coma decimal por punto\n",
    "df['Precio Valencia'] = df['Precio Valencia'].str.replace('.', '', regex=False)  # quita miles\n",
    "df['Precio Valencia'] = df['Precio Valencia'].str.replace(',', '.', regex=False)  # cambia decimal\n",
    "\n",
    "# 3. Convierte a número\n",
    "df['Precio Valencia'] = pd.to_numeric(df['Precio Valencia'], errors='coerce')\n",
    "# 4. Redondea a 2 decimales\n",
    "df['Precio Valencia'] = df['Precio Valencia'].round(2)"
   ]
  },
  {
   "cell_type": "code",
   "execution_count": 10,
   "id": "843174da",
   "metadata": {},
   "outputs": [],
   "source": [
    "#converttir la columno a tipo numerico españa\n",
    "# 1. Asegúrate de que es string (por si hay números ya)\n",
    "df['Precio España'] = df['Precio España'].astype(str)\n",
    "\n",
    "# 2. Elimina los puntos de miles y reemplaza la coma decimal por punto\n",
    "df['Precio España'] = df['Precio España'].str.replace('.', '', regex=False)  # quita miles\n",
    "df['Precio España'] = df['Precio España'].str.replace(',', '.', regex=False)  # cambia decimal\n",
    "\n",
    "# 3. Convierte a número\n",
    "df['Precio España'] = pd.to_numeric(df['Precio España'], errors='coerce')\n",
    "# 4. Redondea a 2 decimales\n",
    "df['Precio España'] = df['Precio España'].round(2)\n"
   ]
  },
  {
   "cell_type": "code",
   "execution_count": 11,
   "id": "548d9990",
   "metadata": {},
   "outputs": [
    {
     "data": {
      "text/plain": [
       "np.int64(0)"
      ]
     },
     "execution_count": 11,
     "metadata": {},
     "output_type": "execute_result"
    }
   ],
   "source": [
    "df.duplicated().sum()  # Comprobamos si hay filas duplicadas"
   ]
  },
  {
   "cell_type": "code",
   "execution_count": 12,
   "id": "1c88176b",
   "metadata": {},
   "outputs": [
    {
     "data": {
      "text/plain": [
       "Año                  0\n",
       "Periodo              0\n",
       "Precio Valencia    219\n",
       "Precio España       47\n",
       "city                 0\n",
       "dtype: int64"
      ]
     },
     "execution_count": 12,
     "metadata": {},
     "output_type": "execute_result"
    }
   ],
   "source": [
    "df.isnull().sum()  # Comprobamos si hay valores nulos en cada columna"
   ]
  },
  {
   "cell_type": "code",
   "execution_count": 13,
   "id": "4dbaebb6",
   "metadata": {},
   "outputs": [
    {
     "data": {
      "text/plain": [
       "Año                0.00\n",
       "Periodo            0.00\n",
       "Precio Valencia    2.19\n",
       "Precio España      0.47\n",
       "city               0.00\n",
       "dtype: float64"
      ]
     },
     "execution_count": 13,
     "metadata": {},
     "output_type": "execute_result"
    }
   ],
   "source": [
    "df.isnull().sum() / 100  # Porcentaje de valores nulos en cada columna"
   ]
  },
  {
   "cell_type": "code",
   "execution_count": 14,
   "id": "3c09368a",
   "metadata": {},
   "outputs": [],
   "source": [
    "# Función para rellenar valores nulos con la media de valencia por año\n",
    "\n",
    "# Rellenar nulos con la media por año\n",
    "df['Precio Valencia'] = df.groupby('Año')['Precio Valencia'].transform(lambda x: x.fillna(x.mean()))\n",
    "\n",
    "# Rellenar los que queden nulos con la media global (o un valor fijo)\n",
    "media_global = df['Precio Valencia'].mean()\n",
    "df['Precio Valencia'].fillna(media_global, inplace=True)\n",
    "\n"
   ]
  },
  {
   "cell_type": "code",
   "execution_count": 15,
   "id": "9d07fa7d",
   "metadata": {},
   "outputs": [],
   "source": [
    "# Función para rellenar valores nulos con la media de España por año\n",
    "# Rellenar nulos con la media por año\n",
    "df['Precio España'] = df.groupby('Año')['Precio España'].transform(lambda x: x.fillna(x.mean()))\n",
    "\n",
    "# Rellenar los que queden nulos con la media global (o un valor fijo)\n",
    "media_global = df['Precio España'].mean()\n",
    "df['Precio España'].fillna(media_global, inplace=True)"
   ]
  },
  {
   "cell_type": "code",
   "execution_count": 16,
   "id": "ae771d9b",
   "metadata": {},
   "outputs": [
    {
     "data": {
      "text/plain": [
       "Año                0\n",
       "Periodo            0\n",
       "Precio Valencia    0\n",
       "Precio España      0\n",
       "city               0\n",
       "dtype: int64"
      ]
     },
     "execution_count": 16,
     "metadata": {},
     "output_type": "execute_result"
    }
   ],
   "source": [
    "df.isnull().sum()  # Comprobamos si hay valores nulos en cada columna"
   ]
  },
  {
   "cell_type": "code",
   "execution_count": 21,
   "id": "ad6a35a3",
   "metadata": {},
   "outputs": [
    {
     "data": {
      "text/html": [
       "<div>\n",
       "<style scoped>\n",
       "    .dataframe tbody tr th:only-of-type {\n",
       "        vertical-align: middle;\n",
       "    }\n",
       "\n",
       "    .dataframe tbody tr th {\n",
       "        vertical-align: top;\n",
       "    }\n",
       "\n",
       "    .dataframe thead th {\n",
       "        text-align: right;\n",
       "    }\n",
       "</style>\n",
       "<table border=\"1\" class=\"dataframe\">\n",
       "  <thead>\n",
       "    <tr style=\"text-align: right;\">\n",
       "      <th></th>\n",
       "      <th>Año</th>\n",
       "      <th>Periodo</th>\n",
       "      <th>Precio Valencia</th>\n",
       "      <th>Precio España</th>\n",
       "      <th>city</th>\n",
       "    </tr>\n",
       "  </thead>\n",
       "  <tbody>\n",
       "    <tr>\n",
       "      <th>0</th>\n",
       "      <td>2007</td>\n",
       "      <td>Trimestre 1</td>\n",
       "      <td>1988.70</td>\n",
       "      <td>1790.0700</td>\n",
       "      <td>Valencia</td>\n",
       "    </tr>\n",
       "    <tr>\n",
       "      <th>1</th>\n",
       "      <td>2007</td>\n",
       "      <td>Trimestre 2</td>\n",
       "      <td>2077.27</td>\n",
       "      <td>1790.0700</td>\n",
       "      <td>Valencia</td>\n",
       "    </tr>\n",
       "    <tr>\n",
       "      <th>2</th>\n",
       "      <td>2007</td>\n",
       "      <td>Trimestre 3</td>\n",
       "      <td>2198.50</td>\n",
       "      <td>1790.0700</td>\n",
       "      <td>Valencia</td>\n",
       "    </tr>\n",
       "    <tr>\n",
       "      <th>3</th>\n",
       "      <td>2007</td>\n",
       "      <td>Trimestre 4</td>\n",
       "      <td>2296.58</td>\n",
       "      <td>1790.0700</td>\n",
       "      <td>Valencia</td>\n",
       "    </tr>\n",
       "    <tr>\n",
       "      <th>4</th>\n",
       "      <td>2008</td>\n",
       "      <td>Trimestre 1</td>\n",
       "      <td>2386.34</td>\n",
       "      <td>1758.5425</td>\n",
       "      <td>Valencia</td>\n",
       "    </tr>\n",
       "  </tbody>\n",
       "</table>\n",
       "</div>"
      ],
      "text/plain": [
       "    Año      Periodo  Precio Valencia  Precio España      city\n",
       "0  2007  Trimestre 1          1988.70      1790.0700  Valencia\n",
       "1  2007  Trimestre 2          2077.27      1790.0700  Valencia\n",
       "2  2007  Trimestre 3          2198.50      1790.0700  Valencia\n",
       "3  2007  Trimestre 4          2296.58      1790.0700  Valencia\n",
       "4  2008  Trimestre 1          2386.34      1758.5425  Valencia"
      ]
     },
     "execution_count": 21,
     "metadata": {},
     "output_type": "execute_result"
    }
   ],
   "source": [
    "df.head()"
   ]
  },
  {
   "cell_type": "code",
   "execution_count": 18,
   "id": "0a5294a2",
   "metadata": {},
   "outputs": [],
   "source": [
    "df_limpio_valencia_vivienda = df.copy()"
   ]
  },
  {
   "cell_type": "code",
   "execution_count": 19,
   "id": "873f97cb",
   "metadata": {},
   "outputs": [],
   "source": [
    "#guardamos\n",
    "df_limpio_valencia_vivienda.to_csv(r\"data\\valencia_vivienda_limpio.csv\", index=False)"
   ]
  }
 ],
 "metadata": {
  "kernelspec": {
   "display_name": "Python 3",
   "language": "python",
   "name": "python3"
  },
  "language_info": {
   "codemirror_mode": {
    "name": "ipython",
    "version": 3
   },
   "file_extension": ".py",
   "mimetype": "text/x-python",
   "name": "python",
   "nbconvert_exporter": "python",
   "pygments_lexer": "ipython3",
   "version": "3.13.1"
  }
 },
 "nbformat": 4,
 "nbformat_minor": 5
}
