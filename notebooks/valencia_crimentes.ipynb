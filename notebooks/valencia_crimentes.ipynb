{
 "cells": [
  {
   "cell_type": "code",
   "execution_count": 1,
   "id": "ffbd11ca",
   "metadata": {},
   "outputs": [],
   "source": [
    "import pandas as pd"
   ]
  },
  {
   "cell_type": "code",
   "execution_count": 2,
   "id": "a3bc5895",
   "metadata": {},
   "outputs": [
    {
     "name": "stdout",
     "output_type": "stream",
     "text": [
      "c:\\Users\\rey_d\\Documents\\GitHub\\An-lisis-de-inversion-inmobiliario\\notebooks\n"
     ]
    }
   ],
   "source": [
    "import os\n",
    "print(os.getcwd())  # Esto imprime el directorio actual\n"
   ]
  },
  {
   "cell_type": "code",
   "execution_count": 3,
   "id": "1540c6c5",
   "metadata": {},
   "outputs": [
    {
     "name": "stdout",
     "output_type": "stream",
     "text": [
      "Directorio actual: c:\\Users\\rey_d\\Documents\\GitHub\\An-lisis-de-inversion-inmobiliario\n"
     ]
    }
   ],
   "source": [
    "import os\n",
    "\n",
    "# Cambiar el directorio de trabajo al nivel superior\n",
    "os.chdir('..')\n",
    "\n",
    "# Verificar dónde estás ahora\n",
    "print(\"Directorio actual:\", os.getcwd())\n"
   ]
  },
  {
   "cell_type": "code",
   "execution_count": 4,
   "id": "3bbeec90",
   "metadata": {},
   "outputs": [],
   "source": [
    "df = pd.read_csv(r'data\\crimenValencia.csv', sep=';')"
   ]
  },
  {
   "cell_type": "code",
   "execution_count": 5,
   "id": "4164d617",
   "metadata": {},
   "outputs": [],
   "source": [
    "#Añadimos una columna llamada ciudad\n",
    "df['city'] = 'Valencia'"
   ]
  },
  {
   "cell_type": "code",
   "execution_count": 6,
   "id": "b6dad198",
   "metadata": {},
   "outputs": [
    {
     "data": {
      "text/plain": [
       "Index(['Año', 'Parámetro', 'Denuncias', 'city'], dtype='object')"
      ]
     },
     "execution_count": 6,
     "metadata": {},
     "output_type": "execute_result"
    }
   ],
   "source": [
    "df.columns"
   ]
  },
  {
   "cell_type": "code",
   "execution_count": 7,
   "id": "f7bc3664",
   "metadata": {},
   "outputs": [
    {
     "data": {
      "text/html": [
       "<div>\n",
       "<style scoped>\n",
       "    .dataframe tbody tr th:only-of-type {\n",
       "        vertical-align: middle;\n",
       "    }\n",
       "\n",
       "    .dataframe tbody tr th {\n",
       "        vertical-align: top;\n",
       "    }\n",
       "\n",
       "    .dataframe thead th {\n",
       "        text-align: right;\n",
       "    }\n",
       "</style>\n",
       "<table border=\"1\" class=\"dataframe\">\n",
       "  <thead>\n",
       "    <tr style=\"text-align: right;\">\n",
       "      <th></th>\n",
       "      <th>Año</th>\n",
       "      <th>Parámetro</th>\n",
       "      <th>Denuncias</th>\n",
       "      <th>city</th>\n",
       "    </tr>\n",
       "  </thead>\n",
       "  <tbody>\n",
       "    <tr>\n",
       "      <th>0</th>\n",
       "      <td>2023</td>\n",
       "      <td>Agresión sexual con penetración</td>\n",
       "      <td>14.000</td>\n",
       "      <td>Valencia</td>\n",
       "    </tr>\n",
       "    <tr>\n",
       "      <th>1</th>\n",
       "      <td>2023</td>\n",
       "      <td>Homicidios dolosos y asesinatos consumados</td>\n",
       "      <td>2.000</td>\n",
       "      <td>Valencia</td>\n",
       "    </tr>\n",
       "    <tr>\n",
       "      <th>2</th>\n",
       "      <td>2023</td>\n",
       "      <td>Hurtos</td>\n",
       "      <td>6.799</td>\n",
       "      <td>Valencia</td>\n",
       "    </tr>\n",
       "    <tr>\n",
       "      <th>3</th>\n",
       "      <td>2023</td>\n",
       "      <td>Robos con fuerza en domicilios, establecimient...</td>\n",
       "      <td>652.000</td>\n",
       "      <td>Valencia</td>\n",
       "    </tr>\n",
       "    <tr>\n",
       "      <th>4</th>\n",
       "      <td>2023</td>\n",
       "      <td>Robos con violencia e intimidación</td>\n",
       "      <td>655.000</td>\n",
       "      <td>Valencia</td>\n",
       "    </tr>\n",
       "  </tbody>\n",
       "</table>\n",
       "</div>"
      ],
      "text/plain": [
       "    Año                                          Parámetro  Denuncias  \\\n",
       "0  2023                    Agresión sexual con penetración     14.000   \n",
       "1  2023         Homicidios dolosos y asesinatos consumados      2.000   \n",
       "2  2023                                             Hurtos      6.799   \n",
       "3  2023  Robos con fuerza en domicilios, establecimient...    652.000   \n",
       "4  2023                 Robos con violencia e intimidación    655.000   \n",
       "\n",
       "       city  \n",
       "0  Valencia  \n",
       "1  Valencia  \n",
       "2  Valencia  \n",
       "3  Valencia  \n",
       "4  Valencia  "
      ]
     },
     "execution_count": 7,
     "metadata": {},
     "output_type": "execute_result"
    }
   ],
   "source": [
    "df.head()"
   ]
  },
  {
   "cell_type": "code",
   "execution_count": 8,
   "id": "b429ba58",
   "metadata": {},
   "outputs": [
    {
     "data": {
      "text/plain": [
       "Año            int64\n",
       "Parámetro     object\n",
       "Denuncias    float64\n",
       "city          object\n",
       "dtype: object"
      ]
     },
     "execution_count": 8,
     "metadata": {},
     "output_type": "execute_result"
    }
   ],
   "source": [
    "# lo primero que podemos comprobar es el tipo de dato de cada columna\n",
    "df.dtypes"
   ]
  },
  {
   "cell_type": "code",
   "execution_count": 18,
   "id": "b07dc57a",
   "metadata": {},
   "outputs": [],
   "source": [
    "#cambiamos Denuncias a tipo int\n",
    "# Supongamos que la columna se llama 'columna_float'\n",
    "df['Denuncias'] = df['Denuncias'].round().astype(int)\n"
   ]
  },
  {
   "cell_type": "code",
   "execution_count": 9,
   "id": "c0857c3e",
   "metadata": {},
   "outputs": [
    {
     "data": {
      "text/plain": [
       "np.int64(0)"
      ]
     },
     "execution_count": 9,
     "metadata": {},
     "output_type": "execute_result"
    }
   ],
   "source": [
    "df.duplicated().sum()  # Comprobamos si hay filas duplicadas"
   ]
  },
  {
   "cell_type": "code",
   "execution_count": 13,
   "id": "980f9471",
   "metadata": {},
   "outputs": [
    {
     "data": {
      "text/plain": [
       "np.int64(0)"
      ]
     },
     "execution_count": 13,
     "metadata": {},
     "output_type": "execute_result"
    }
   ],
   "source": [
    "df.duplicated().sum()  # Comprobamos si hay filas duplicadas"
   ]
  },
  {
   "cell_type": "code",
   "execution_count": 14,
   "id": "c0e1cffb",
   "metadata": {},
   "outputs": [
    {
     "data": {
      "text/plain": [
       "Año          0\n",
       "Parámetro    0\n",
       "Denuncias    0\n",
       "city         0\n",
       "dtype: int64"
      ]
     },
     "execution_count": 14,
     "metadata": {},
     "output_type": "execute_result"
    }
   ],
   "source": [
    "df.isnull().sum() #comprueba si hay valores nulos"
   ]
  },
  {
   "cell_type": "code",
   "execution_count": 19,
   "id": "51fa7cb0",
   "metadata": {},
   "outputs": [
    {
     "data": {
      "text/html": [
       "<div>\n",
       "<style scoped>\n",
       "    .dataframe tbody tr th:only-of-type {\n",
       "        vertical-align: middle;\n",
       "    }\n",
       "\n",
       "    .dataframe tbody tr th {\n",
       "        vertical-align: top;\n",
       "    }\n",
       "\n",
       "    .dataframe thead th {\n",
       "        text-align: right;\n",
       "    }\n",
       "</style>\n",
       "<table border=\"1\" class=\"dataframe\">\n",
       "  <thead>\n",
       "    <tr style=\"text-align: right;\">\n",
       "      <th></th>\n",
       "      <th>Año</th>\n",
       "      <th>Parámetro</th>\n",
       "      <th>Denuncias</th>\n",
       "      <th>city</th>\n",
       "    </tr>\n",
       "  </thead>\n",
       "  <tbody>\n",
       "    <tr>\n",
       "      <th>0</th>\n",
       "      <td>2023</td>\n",
       "      <td>Agresión sexual con penetración</td>\n",
       "      <td>14</td>\n",
       "      <td>Valencia</td>\n",
       "    </tr>\n",
       "    <tr>\n",
       "      <th>1</th>\n",
       "      <td>2023</td>\n",
       "      <td>Homicidios dolosos y asesinatos consumados</td>\n",
       "      <td>2</td>\n",
       "      <td>Valencia</td>\n",
       "    </tr>\n",
       "    <tr>\n",
       "      <th>2</th>\n",
       "      <td>2023</td>\n",
       "      <td>Hurtos</td>\n",
       "      <td>7</td>\n",
       "      <td>Valencia</td>\n",
       "    </tr>\n",
       "    <tr>\n",
       "      <th>3</th>\n",
       "      <td>2023</td>\n",
       "      <td>Robos con fuerza en domicilios, establecimient...</td>\n",
       "      <td>652</td>\n",
       "      <td>Valencia</td>\n",
       "    </tr>\n",
       "    <tr>\n",
       "      <th>4</th>\n",
       "      <td>2023</td>\n",
       "      <td>Robos con violencia e intimidación</td>\n",
       "      <td>655</td>\n",
       "      <td>Valencia</td>\n",
       "    </tr>\n",
       "  </tbody>\n",
       "</table>\n",
       "</div>"
      ],
      "text/plain": [
       "    Año                                          Parámetro  Denuncias  \\\n",
       "0  2023                    Agresión sexual con penetración         14   \n",
       "1  2023         Homicidios dolosos y asesinatos consumados          2   \n",
       "2  2023                                             Hurtos          7   \n",
       "3  2023  Robos con fuerza en domicilios, establecimient...        652   \n",
       "4  2023                 Robos con violencia e intimidación        655   \n",
       "\n",
       "       city  \n",
       "0  Valencia  \n",
       "1  Valencia  \n",
       "2  Valencia  \n",
       "3  Valencia  \n",
       "4  Valencia  "
      ]
     },
     "execution_count": 19,
     "metadata": {},
     "output_type": "execute_result"
    }
   ],
   "source": [
    "df.head()"
   ]
  }
 ],
 "metadata": {
  "kernelspec": {
   "display_name": "Python 3",
   "language": "python",
   "name": "python3"
  },
  "language_info": {
   "codemirror_mode": {
    "name": "ipython",
    "version": 3
   },
   "file_extension": ".py",
   "mimetype": "text/x-python",
   "name": "python",
   "nbconvert_exporter": "python",
   "pygments_lexer": "ipython3",
   "version": "3.13.1"
  }
 },
 "nbformat": 4,
 "nbformat_minor": 5
}
