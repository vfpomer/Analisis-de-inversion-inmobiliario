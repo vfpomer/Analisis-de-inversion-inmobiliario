{
 "cells": [
  {
   "cell_type": "code",
   "execution_count": 1,
   "id": "e9abc95c",
   "metadata": {},
   "outputs": [
    {
     "name": "stdout",
     "output_type": "stream",
     "text": [
      "                     neighbourhood neighbourhood_group  \\\n",
      "0                         el Raval        Ciutat Vella   \n",
      "1                   el Barri Gòtic        Ciutat Vella   \n",
      "2           la Dreta de l'Eixample            Eixample   \n",
      "3  l'Antiga Esquerra de l'Eixample            Eixample   \n",
      "4   la Nova Esquerra de l'Eixample            Eixample   \n",
      "\n",
      "                                            geometry  \n",
      "0  MULTIPOLYGON (((2.17737 41.37532, 2.17852 41.3...  \n",
      "1  MULTIPOLYGON (((2.18287 41.38074, 2.18289 41.3...  \n",
      "2  MULTIPOLYGON (((2.17091 41.40182, 2.17332 41.3...  \n",
      "3  MULTIPOLYGON (((2.15971 41.38298, 2.15857 41.3...  \n",
      "4  MULTIPOLYGON (((2.14998 41.37559, 2.14982 41.3...  \n"
     ]
    }
   ],
   "source": [
    "import geopandas as gpd\n",
    "\n",
    "# 1. Cargar el GeoJSON\n",
    "gdf = gpd.read_file(\"neighbourhoods.geojson\")\n",
    "\n",
    "# 2. Mostrar las primeras filas\n",
    "print(gdf.head())\n",
    "\n",
    "# 3. Eliminar la geometría (si no la necesitas)\n",
    "df = gdf.drop(columns=\"geometry\")\n",
    "\n",
    "# 4. Guardar como archivo JSON plano\n",
    "df.to_json(\"neighbourhoods.json\", orient=\"records\", force_ascii=False)\n"
   ]
  }
 ],
 "metadata": {
  "kernelspec": {
   "display_name": "Python 3",
   "language": "python",
   "name": "python3"
  },
  "language_info": {
   "codemirror_mode": {
    "name": "ipython",
    "version": 3
   },
   "file_extension": ".py",
   "mimetype": "text/x-python",
   "name": "python",
   "nbconvert_exporter": "python",
   "pygments_lexer": "ipython3",
   "version": "3.11.0"
  }
 },
 "nbformat": 4,
 "nbformat_minor": 5
}
